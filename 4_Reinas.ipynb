{
  "nbformat": 4,
  "nbformat_minor": 0,
  "metadata": {
    "colab": {
      "provenance": [],
      "authorship_tag": "ABX9TyOhlv9gI/EqKeVeoEm1d+Xr",
      "include_colab_link": true
    },
    "kernelspec": {
      "name": "python3",
      "display_name": "Python 3"
    },
    "language_info": {
      "name": "python"
    }
  },
  "cells": [
    {
      "cell_type": "markdown",
      "metadata": {
        "id": "view-in-github",
        "colab_type": "text"
      },
      "source": [
        "<a href=\"https://colab.research.google.com/github/aitanasc/Algoritmos_optimizacion/blob/main/4_Reinas.ipynb\" target=\"_parent\"><img src=\"https://colab.research.google.com/assets/colab-badge.svg\" alt=\"Open In Colab\"/></a>"
      ]
    },
    {
      "cell_type": "code",
      "execution_count": null,
      "metadata": {
        "id": "KwlyGe6Mtz3c"
      },
      "outputs": [],
      "source": [
        "Algoritmo básico: Backtracking"
      ]
    },
    {
      "cell_type": "markdown",
      "source": [
        "Algoritmo básico: Backtracking\n",
        "l problema de las 4 reinas es una versión más simple del problema clásico de las n-reinas. Se trata de colocar 4 reinas en un tablero de ajedrez de\n",
        "4×4 de manera que ninguna de ellas pueda atacar a otra. Esto implica que no pueden compartir la misma fila, columna o diagonal.\n",
        "\n",
        "El enfoque clásico para resolver este problema es backtracking, un método de búsqueda exhaustiva que recorre todas las configuraciones posibles hasta encontrar una solución válida.\n",
        "\n",
        "A continuación, se detalla el algoritmo de backtracking para 4 reinas:\n",
        "\n",
        "Colocar una reina en una fila.\n",
        "Recursivamente intentar colocar reinas en las filas restantes, verificando si cada posición es segura.\n",
        "Si se encuentra una posición insegura, retroceder y probar la siguiente posición.\n",
        "Si se colocan todas las reinas correctamente, se registra una solución."
      ],
      "metadata": {
        "id": "0FYzA8dht4mP"
      }
    },
    {
      "cell_type": "code",
      "source": [
        "def es_seguro(tablero, fila, col, n):\n",
        "    # Verificar la columna\n",
        "    for i in range(fila):\n",
        "        if tablero[i][col] == 1:\n",
        "            return False\n",
        "    # Verificar diagonal superior izquierda\n",
        "    for i, j in zip(range(fila, -1, -1), range(col, -1, -1)):\n",
        "        if tablero[i][j] == 1:\n",
        "            return False\n",
        "    # Verificar diagonal superior derecha\n",
        "    for i, j in zip(range(fila, -1, -1), range(col, n)):\n",
        "        if tablero[i][j] == 1:\n",
        "            return False\n",
        "    return True\n",
        "\n",
        "def resolver_4_reinas(tablero, fila, n):\n",
        "    if fila >= n:\n",
        "        return True\n",
        "    for col in range(n):\n",
        "        if es_seguro(tablero, fila, col, n):\n",
        "            tablero[fila][col] = 1\n",
        "            if resolver_4_reinas(tablero, fila + 1, n):\n",
        "                return True\n",
        "            tablero[fila][col] = 0\n",
        "    return False\n",
        "\n",
        "def imprimir_tablero(tablero):\n",
        "    for fila in tablero:\n",
        "        print(\" \".join(str(x) for x in fila))"
      ],
      "metadata": {
        "id": "qttHTdyBuSZ3"
      },
      "execution_count": 1,
      "outputs": []
    },
    {
      "cell_type": "code",
      "source": [
        "n = 4\n",
        "tablero = [[0 for _ in range(n)] for _ in range(n)]\n",
        "\n",
        "if resolver_4_reinas(tablero, 0, n):\n",
        "    imprimir_tablero(tablero)\n",
        "else:\n",
        "    print(\"No hay solución.\")"
      ],
      "metadata": {
        "colab": {
          "base_uri": "https://localhost:8080/"
        },
        "id": "tWKxUgnhui0M",
        "outputId": "eb3365e3-49e9-4866-9ba6-e9102b655ab0"
      },
      "execution_count": 5,
      "outputs": [
        {
          "output_type": "stream",
          "name": "stdout",
          "text": [
            "0 1 0 0\n",
            "0 0 0 1\n",
            "1 0 0 0\n",
            "0 0 1 0\n"
          ]
        }
      ]
    }
  ]
}