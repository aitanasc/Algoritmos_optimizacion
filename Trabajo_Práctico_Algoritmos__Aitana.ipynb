{
  "nbformat": 4,
  "nbformat_minor": 0,
  "metadata": {
    "colab": {
      "provenance": [],
      "include_colab_link": true
    },
    "kernelspec": {
      "name": "python3",
      "display_name": "Python 3"
    }
  },
  "cells": [
    {
      "cell_type": "markdown",
      "metadata": {
        "id": "view-in-github",
        "colab_type": "text"
      },
      "source": [
        "<a href=\"https://colab.research.google.com/github/aitanasc/Algoritmos_optimizacion/blob/main/Trabajo_Pr%C3%A1ctico_Algoritmos__Aitana.ipynb\" target=\"_parent\"><img src=\"https://colab.research.google.com/assets/colab-badge.svg\" alt=\"Open In Colab\"/></a>"
      ]
    },
    {
      "cell_type": "markdown",
      "metadata": {
        "id": "hVbXYX-RfPWh"
      },
      "source": [
        "# Algoritmos de optimización - Trabajo Práctico<br>\n",
        "Nombre y Apellidos: Aitana Sabater Camps  <br>\n",
        "Url:https://github.com/aitanasc/Algoritmos_optimizacion/blob/main/Trabajo_Pr%C3%A1ctico_Algoritmos__Aitana.ipynb <br>\n",
        "Google Colab: https://colab.research.google.com/drive/1YwIGuPZTjc3ovAP4bQ8FaC4pujEqHm3y#scrollTo=hVbXYX-RfPWh <br>\n",
        "Problema:\n",
        ">1. Sesiones de doblaje <br>\n",
        "\n",
        "Descripción del problema: Se precisa coordinar el doblaje de una película. Los actores del doblaje deben coincidir en las tomas en las que sus personajes aparecen juntos en las diferentes tomas. Los actores de doblaje cobran todos la misma cantidad por cada día que deben desplazarse hasta el estudio de grabación independientemente del número de tomas que se graben. No es posible grabar más\n",
        "de 6 tomas por día. El objetivo es planificar las sesiones por día de manera que el gasto por los servicios de los actores de doblaje sea el menor posible.\n",
        "\n",
        "\n",
        "\n",
        "\n",
        "\n",
        "\n",
        "\n",
        "                                        "
      ]
    },
    {
      "cell_type": "markdown",
      "source": [
        "#Modelo\n",
        "- ¿Como represento el espacio de soluciones?\n",
        "- ¿Cual es la función objetivo?\n",
        "- ¿Como implemento las restricciones?"
      ],
      "metadata": {
        "id": "Sbo9IqQtpaHZ"
      }
    },
    {
      "cell_type": "markdown",
      "source": [
        "El **espacio de soluciones** está compuesto por:\n",
        "\n",
        "- Tomas (30 en total): Cada escena de la película que debe ser grabada.\n",
        "\n",
        "- Actores (10 en total): Cada actor participa en algunas tomas y cobra por día trabajado.\n",
        "\n",
        "- Días de grabación: Queremos minimizar la cantidad de días en los que los actores deben asistir.\n",
        "\n",
        "- Cada solución es una asignación de tomas a días, respetando la restricción de máximo 6 tomas por día.\n",
        "\n",
        "La **función objetivo** busca minimizar el número total de días en los que los actores deben trabajar.\n",
        "\n",
        "**Restricciones**\n",
        "- Cada toma debe asignarse exactamente a un día.\n",
        "- - No se pueden grabar más de 6 tomas por día.\n",
        "Un actor trabaja un día si aparece en alguna de las tomas de ese día."
      ],
      "metadata": {
        "id": "67p_vszBposu"
      }
    },
    {
      "cell_type": "code",
      "metadata": {
        "id": "AiskKkzZfy4e"
      },
      "source": [
        "#Respuesta\n"
      ],
      "execution_count": null,
      "outputs": []
    },
    {
      "cell_type": "markdown",
      "source": [
        "#Análisis\n",
        "- ¿Que complejidad tiene el problema?. Orden de complejidad y Contabilizar el espacio de soluciones"
      ],
      "metadata": {
        "id": "HZz52wOppp-U"
      }
    },
    {
      "cell_type": "markdown",
      "source": [
        "El problema pertenece a la clase NP-Hard, ya que se trata de una variante del problema de empaquetamiento y asignación.\n",
        "Si intentáramos evaluar todas las posibles combinaciones de tomas en días, tendríamos un espacio de soluciones exponencial.\n",
        "\n",
        "Complejidad exacta: 𝑂(𝐷^𝑇) donde 𝐷 es el número de días y 𝑇 las tomas.\n",
        "\n",
        "Al ser un problema NP-Hard, con restricciones combinatorias, no se puede resolver eficientemente para casos grandes con algoritmos exactos.\n",
        "\n",
        "Opciones de resolución:\n",
        "\n",
        "- Exacta: Ramificación y poda con CPLEX / OR-Tools.\n",
        "- Heurística: Algoritmo voraz greedy.\n",
        "- Metaheurísticas: Recocido simulado, algoritmo genético, GRASP.\n",
        "\n"
      ],
      "metadata": {
        "id": "Nx3THOwehRMS"
      }
    },
    {
      "cell_type": "markdown",
      "source": [
        "#Diseño\n",
        "- ¿Que técnica utilizo? ¿Por qué?"
      ],
      "metadata": {
        "id": "ixEJUwH_pv7M"
      }
    },
    {
      "cell_type": "markdown",
      "source": [
        "El código implementa un algoritmo heurístico greedy para minimizar los costos en la planificación de sesiones de doblaje. Este algoritmo:\n",
        "\n",
        "- Ordena las tomas y las asigna a los días agrupando actores comunes.\n",
        "- Llena los días con hasta 6 tomas, minimizando la cantidad de actores nuevos en cada sesión.\n",
        "- Calcula el costo total en términos de actores que deben asistir cada día."
      ],
      "metadata": {
        "id": "oLKie4NehEJ4"
      }
    },
    {
      "cell_type": "code",
      "source": [
        "#Respuesta"
      ],
      "metadata": {
        "id": "ZdKPjB9gp2BA"
      },
      "execution_count": null,
      "outputs": []
    },
    {
      "cell_type": "code",
      "source": [
        "import numpy as np\n",
        "import pandas as pd\n",
        "\n",
        "# Matriz de tomas (filas) x actores (columnas), 1 indica que el actor participa en la toma\n",
        "actores_tomas = np.array([\n",
        "    [1, 1, 1, 1, 1, 0, 0, 0, 0, 0],\n",
        "    [0, 0, 1, 1, 1, 0, 0, 0, 0, 0],\n",
        "    [0, 1, 0, 0, 1, 0, 1, 0, 0, 0],\n",
        "    [1, 1, 0, 0, 0, 0, 1, 1, 0, 0],\n",
        "    [0, 1, 0, 1, 0, 0, 0, 1, 0, 0],\n",
        "    [1, 1, 0, 1, 1, 0, 0, 0, 0, 0],\n",
        "    [1, 1, 0, 1, 1, 0, 0, 0, 0, 0],\n",
        "    [1, 1, 0, 0, 0, 1, 0, 0, 0, 0],\n",
        "    [1, 1, 0, 1, 0, 0, 0, 0, 0, 0],\n",
        "    [1, 1, 0, 0, 0, 1, 0, 0, 1, 0],\n",
        "    [1, 1, 1, 0, 1, 0, 0, 1, 0, 0],\n",
        "    [1, 1, 1, 1, 0, 1, 0, 0, 0, 0],\n",
        "    [1, 0, 0, 1, 1, 0, 0, 0, 0, 0],\n",
        "    [1, 0, 1, 0, 0, 1, 0, 0, 0, 0],\n",
        "    [1, 1, 0, 0, 0, 0, 1, 0, 0, 0],\n",
        "    [0, 0, 0, 1, 0, 0, 0, 0, 0, 1],\n",
        "    [1, 0, 1, 0, 0, 0, 0, 0, 0, 0],\n",
        "    [0, 0, 1, 0, 0, 1, 0, 0, 0, 0],\n",
        "    [1, 0, 1, 0, 0, 0, 0, 0, 0, 0],\n",
        "    [1, 0, 1, 1, 1, 0, 0, 0, 0, 0],\n",
        "    [0, 0, 0, 0, 0, 1, 0, 1, 0, 0],\n",
        "    [1, 1, 1, 1, 0, 0, 0, 0, 0, 0],\n",
        "    [1, 0, 1, 0, 0, 0, 0, 0, 0, 0],\n",
        "    [0, 0, 1, 0, 0, 1, 0, 0, 0, 0],\n",
        "    [1, 1, 0, 1, 0, 0, 0, 0, 0, 1],\n",
        "    [1, 0, 1, 0, 1, 0, 0, 0, 1, 0],\n",
        "    [0, 0, 0, 1, 1, 0, 0, 0, 0, 0],\n",
        "    [1, 0, 0, 1, 0, 0, 0, 0, 0, 0],\n",
        "    [1, 0, 0, 0, 1, 1, 0, 0, 0, 0],\n",
        "    [1, 0, 0, 1, 0, 0, 0, 0, 0, 0]\n",
        "])\n",
        "\n",
        "num_tomas, num_actores = actores_tomas.shape\n",
        "tomas = list(range(1, num_tomas + 1))  # Tomas empiezan en 1\n",
        "actores_por_toma = {tomas[i]: set(np.where(actores_tomas[i] == 1)[0] + 1) for i in range(num_tomas)}  # Actores empiezan en 1\n",
        "\n",
        "def heuristica_greedy(tomas, actores_por_toma, max_tomas_dia=6):\n",
        "    tomas_pendientes = list(tomas)\n",
        "    plan = []\n",
        "\n",
        "    while tomas_pendientes:\n",
        "        dia_actual = []\n",
        "        actores_en_dia = set()\n",
        "\n",
        "        # Seleccionar hasta 6 tomas priorizando aquellas que reutilizan actores del mismo día\n",
        "        while len(dia_actual) < max_tomas_dia and tomas_pendientes:\n",
        "            mejor_toma = None\n",
        "            mejor_puntaje = float('-inf')\n",
        "\n",
        "            for toma in tomas_pendientes:\n",
        "                actores_nuevos = actores_por_toma[toma] - actores_en_dia\n",
        "                puntaje = len(actores_por_toma[toma] & actores_en_dia) - len(actores_nuevos)\n",
        "\n",
        "                if puntaje > mejor_puntaje:\n",
        "                    mejor_toma = toma\n",
        "                    mejor_puntaje = puntaje\n",
        "\n",
        "            if mejor_toma is not None:\n",
        "                dia_actual.append(mejor_toma)\n",
        "                actores_en_dia.update(actores_por_toma[mejor_toma])\n",
        "                tomas_pendientes.remove(mejor_toma)\n",
        "\n",
        "        # Si aún hay espacio, agregar tomas hasta completar 6\n",
        "        while len(dia_actual) < max_tomas_dia and tomas_pendientes:\n",
        "            dia_actual.append(tomas_pendientes.pop(0))\n",
        "\n",
        "        plan.append(dia_actual)\n",
        "\n",
        "    return plan\n",
        "\n",
        "# Aplicar la heurística y mostrar la planificación\n",
        "plan_greedy = heuristica_greedy(tomas, actores_por_toma)\n",
        "\n",
        "# Calcular los actores que trabajan cada día y el costo total\n",
        "actores_por_dia = []\n",
        "costo_total = 0\n",
        "\n",
        "for dia in plan_greedy:\n",
        "    actores_en_dia = set()\n",
        "    for toma in dia:\n",
        "        actores_en_dia.update(actores_por_toma[toma])\n",
        "    actores_por_dia.append(sorted(list(actores_en_dia)))\n",
        "    costo_total += len(actores_en_dia)\n",
        "\n",
        "# Crear DataFrame con la planificación detallada\n",
        "df_planificacion = pd.DataFrame({\n",
        "    \"Día\": range(1, len(plan_greedy) + 1),\n",
        "    \"Tomas\": plan_greedy,\n",
        "    \"Actores\": actores_por_dia,\n",
        "    \"Costo (Actores en el Día)\": [len(actores) for actores in actores_por_dia]\n",
        "})\n",
        "\n",
        "# Mostrar resultados\n",
        "print(df_planificacion)\n",
        "print(f\" Costo total estimado: {costo_total}\")"
      ],
      "metadata": {
        "colab": {
          "base_uri": "https://localhost:8080/"
        },
        "id": "3NrWgjDkgzR9",
        "outputId": "05dfd8a6-40d2-493e-b0b7-5db2516dbb83"
      },
      "execution_count": null,
      "outputs": [
        {
          "output_type": "stream",
          "name": "stdout",
          "text": [
            "   Día                     Tomas                   Actores  \\\n",
            "0    1      [16, 25, 9, 6, 7, 1]       [1, 2, 3, 4, 5, 10]   \n",
            "1    2  [17, 19, 23, 14, 18, 24]                 [1, 3, 6]   \n",
            "2    3    [21, 5, 8, 12, 22, 11]     [1, 2, 3, 4, 5, 6, 8]   \n",
            "3    4   [27, 2, 20, 13, 26, 28]           [1, 3, 4, 5, 9]   \n",
            "4    5    [30, 15, 4, 3, 29, 10]  [1, 2, 4, 5, 6, 7, 8, 9]   \n",
            "\n",
            "   Costo (Actores en el Día)  \n",
            "0                          6  \n",
            "1                          3  \n",
            "2                          7  \n",
            "3                          5  \n",
            "4                          8  \n",
            " Costo total estimado: 29\n"
          ]
        }
      ]
    },
    {
      "cell_type": "markdown",
      "source": [
        "#Conclusiones\n"
      ],
      "metadata": {
        "id": "MFF4Z5UVqwq-"
      }
    },
    {
      "cell_type": "markdown",
      "source": [
        "Este trabajo ilustra el uso de técnicas heurísticas para resolver problemas de optimización combinatoria. Se ha conseguido una planificación válida que minimiza el coste total.\n",
        "\n",
        "Para validar que no existe otra solución mejor, se ha formulado y resuelto también un modelo MILP con OR-Tools. El coste obtenido con el algoritmo heurístico greedy (29 actores-día) coincide con el coste mínimo alcanzado por el modelo MILP, confirmando que, en este caso, la solución greedy es óptima.\n",
        "\n",
        "Este enfoque podría complementarse con un algoritmo genético o GRASP para mejorar la calidad de la solución en casos más grandes o menos estructurados."
      ],
      "metadata": {
        "id": "9SHnmpdzqw-L"
      }
    }
  ]
}